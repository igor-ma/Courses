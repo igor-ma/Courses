{
 "cells": [
  {
   "cell_type": "code",
   "execution_count": 1,
   "id": "7bbf421c",
   "metadata": {},
   "outputs": [],
   "source": [
    "import mlflow\n",
    "import pandas as pd\n",
    "from sklearn.model_selection import train_test_split\n",
    "from sklearn.linear_model import LinearRegression\n",
    "from xgboost import XGBRegressor\n",
    "from sklearn.metrics import mean_squared_error, r2_score"
   ]
  },
  {
   "cell_type": "markdown",
   "id": "2df4c258",
   "metadata": {},
   "source": [
    "# Reading and preparing data"
   ]
  },
  {
   "cell_type": "code",
   "execution_count": 2,
   "id": "965f6d3b",
   "metadata": {},
   "outputs": [
    {
     "data": {
      "text/html": [
       "<div>\n",
       "<style scoped>\n",
       "    .dataframe tbody tr th:only-of-type {\n",
       "        vertical-align: middle;\n",
       "    }\n",
       "\n",
       "    .dataframe tbody tr th {\n",
       "        vertical-align: top;\n",
       "    }\n",
       "\n",
       "    .dataframe thead th {\n",
       "        text-align: right;\n",
       "    }\n",
       "</style>\n",
       "<table border=\"1\" class=\"dataframe\">\n",
       "  <thead>\n",
       "    <tr style=\"text-align: right;\">\n",
       "      <th></th>\n",
       "      <th>tamanho</th>\n",
       "      <th>ano</th>\n",
       "      <th>garagem</th>\n",
       "      <th>preco</th>\n",
       "    </tr>\n",
       "  </thead>\n",
       "  <tbody>\n",
       "    <tr>\n",
       "      <th>0</th>\n",
       "      <td>159.0</td>\n",
       "      <td>2003</td>\n",
       "      <td>2</td>\n",
       "      <td>208500</td>\n",
       "    </tr>\n",
       "  </tbody>\n",
       "</table>\n",
       "</div>"
      ],
      "text/plain": [
       "   tamanho   ano  garagem   preco\n",
       "0    159.0  2003        2  208500"
      ]
     },
     "execution_count": 2,
     "metadata": {},
     "output_type": "execute_result"
    }
   ],
   "source": [
    "df = pd.read_csv('../data/houses.csv')\n",
    "df.head(1)"
   ]
  },
  {
   "cell_type": "code",
   "execution_count": 3,
   "id": "ffdec010",
   "metadata": {},
   "outputs": [
    {
     "data": {
      "text/plain": [
       "((1022, 3), (1022,), (438, 3), (438,))"
      ]
     },
     "execution_count": 3,
     "metadata": {},
     "output_type": "execute_result"
    }
   ],
   "source": [
    "X = df.drop(columns='preco')\n",
    "y = df['preco']\n",
    "X_train, X_test, y_train, y_test = train_test_split(X, y, test_size=0.3, random_state=42)\n",
    "\n",
    "X_train.shape, y_train.shape, X_test.shape, y_test.shape"
   ]
  },
  {
   "cell_type": "markdown",
   "id": "9d9a7bba",
   "metadata": {},
   "source": [
    "# Some tests using default backend\n",
    "\n",
    "> Using the default backend the Registry option is disabled"
   ]
  },
  {
   "cell_type": "code",
   "execution_count": null,
   "id": "4a4d82d6",
   "metadata": {},
   "outputs": [],
   "source": [
    "mlflow.set_experiment('house-prices-eda')"
   ]
  },
  {
   "cell_type": "markdown",
   "id": "0fc2d938",
   "metadata": {},
   "source": [
    "## Linear Regression"
   ]
  },
  {
   "cell_type": "code",
   "execution_count": 71,
   "id": "d44eafda",
   "metadata": {},
   "outputs": [
    {
     "data": {
      "text/plain": [
       "<ActiveRun: >"
      ]
     },
     "execution_count": 71,
     "metadata": {},
     "output_type": "execute_result"
    }
   ],
   "source": [
    "mlflow.start_run()"
   ]
  },
  {
   "cell_type": "code",
   "execution_count": 65,
   "id": "abfbd587",
   "metadata": {},
   "outputs": [
    {
     "data": {
      "text/plain": [
       "LinearRegression()"
      ]
     },
     "execution_count": 65,
     "metadata": {},
     "output_type": "execute_result"
    }
   ],
   "source": [
    "model1 = LinearRegression()\n",
    "model1.fit(X_train, y_train)"
   ]
  },
  {
   "cell_type": "code",
   "execution_count": 66,
   "id": "5a1b8108",
   "metadata": {},
   "outputs": [],
   "source": [
    "mlflow.log_params(model1.get_params())"
   ]
  },
  {
   "cell_type": "code",
   "execution_count": 67,
   "id": "bc96e315",
   "metadata": {},
   "outputs": [],
   "source": [
    "mlflow.sklearn.log_model(model1, 'linear_regression')"
   ]
  },
  {
   "cell_type": "code",
   "execution_count": 68,
   "id": "d6d3c796",
   "metadata": {},
   "outputs": [
    {
     "data": {
      "text/plain": [
       "(2078666917.9289913, 0.7021153642898048)"
      ]
     },
     "execution_count": 68,
     "metadata": {},
     "output_type": "execute_result"
    }
   ],
   "source": [
    "y_pred = model1.predict(X_test)\n",
    "mse = mean_squared_error(y_test, y_pred)\n",
    "r2 = r2_score(y_test, y_pred)\n",
    "mse, r2"
   ]
  },
  {
   "cell_type": "code",
   "execution_count": 69,
   "id": "36606f64",
   "metadata": {},
   "outputs": [],
   "source": [
    "mlflow.log_metric('mse', mse)\n",
    "mlflow.log_metric('r2', r2)"
   ]
  },
  {
   "cell_type": "code",
   "execution_count": 72,
   "id": "fe2ad7db",
   "metadata": {},
   "outputs": [],
   "source": [
    "mlflow.end_run()"
   ]
  },
  {
   "cell_type": "markdown",
   "id": "4b51d17d",
   "metadata": {},
   "source": [
    "## XGBoost"
   ]
  },
  {
   "cell_type": "markdown",
   "id": "236f9961",
   "metadata": {},
   "source": [
    "### No params"
   ]
  },
  {
   "cell_type": "code",
   "execution_count": 54,
   "id": "a269bf24",
   "metadata": {},
   "outputs": [],
   "source": [
    "with mlflow.start_run():\n",
    "    model2 = XGBRegressor(random_state=42)\n",
    "    model2.fit(X_train, y_train)\n",
    "    \n",
    "    mlflow.xgboost.log_model(model2, 'xgboost')\n",
    "    \n",
    "    y_pred = model2.predict(X_test)\n",
    "    mse = mean_squared_error(y_test, y_pred)\n",
    "    r2 = r2_score(y_test, y_pred)\n",
    "    \n",
    "    mlflow.log_metric('mse', mse)\n",
    "    mlflow.log_metric('r2', r2)"
   ]
  },
  {
   "cell_type": "markdown",
   "id": "335f618b",
   "metadata": {},
   "source": [
    "### Setting model params before running"
   ]
  },
  {
   "cell_type": "code",
   "execution_count": 55,
   "id": "4c310822",
   "metadata": {},
   "outputs": [],
   "source": [
    "params = {\n",
    "    'learning_rate': 0.2,\n",
    "    'n_estimators': 50,\n",
    "    'random_state': 42\n",
    "}\n",
    "\n",
    "with mlflow.start_run():\n",
    "    model2 = XGBRegressor(**params)\n",
    "    model2.fit(X_train, y_train)\n",
    "    \n",
    "    mlflow.xgboost.log_model(model2, 'xgboost')\n",
    "    \n",
    "    y_pred = model2.predict(X_test)\n",
    "    mse = mean_squared_error(y_test, y_pred)\n",
    "    r2 = r2_score(y_test, y_pred)\n",
    "    \n",
    "    mlflow.log_metric('mse', mse)\n",
    "    mlflow.log_metric('r2', r2)"
   ]
  },
  {
   "cell_type": "markdown",
   "id": "e9351984",
   "metadata": {},
   "source": [
    "# MLflow stuff"
   ]
  },
  {
   "cell_type": "code",
   "execution_count": 56,
   "id": "f4e9f0b1",
   "metadata": {},
   "outputs": [
    {
     "data": {
      "text/plain": [
       "<Experiment: artifact_location='file:///l/disk0/iaraujo/%C3%81rea%20de%20Trabalho/estudos/Courses/alura-mlflow-gestao-ciclo-vidas-modelos-ml/src/mlruns/1', experiment_id='1', lifecycle_stage='active', name='house-prices-eda', tags={}>"
      ]
     },
     "execution_count": 56,
     "metadata": {},
     "output_type": "execute_result"
    }
   ],
   "source": [
    "mlflow.get_experiment_by_name('house-prices-eda')"
   ]
  },
  {
   "cell_type": "code",
   "execution_count": 58,
   "id": "28203410",
   "metadata": {},
   "outputs": [
    {
     "data": {
      "text/plain": [
       "[<RunInfo: artifact_uri='file:///l/disk0/iaraujo/%C3%81rea%20de%20Trabalho/estudos/Courses/alura-mlflow-gestao-ciclo-vidas-modelos-ml/src/mlruns/1/841a00f759b047c7b63802e8c96cac1b/artifacts', end_time=1643813416332, experiment_id='1', lifecycle_stage='active', run_id='841a00f759b047c7b63802e8c96cac1b', run_uuid='841a00f759b047c7b63802e8c96cac1b', start_time=1643813415261, status='FINISHED', user_id='iaraujo'>,\n",
       " <RunInfo: artifact_uri='file:///l/disk0/iaraujo/%C3%81rea%20de%20Trabalho/estudos/Courses/alura-mlflow-gestao-ciclo-vidas-modelos-ml/src/mlruns/1/667fba01c7e74948a51a21d6d6176652/artifacts', end_time=1643813117235, experiment_id='1', lifecycle_stage='active', run_id='667fba01c7e74948a51a21d6d6176652', run_uuid='667fba01c7e74948a51a21d6d6176652', start_time=1643813116136, status='FINISHED', user_id='iaraujo'>,\n",
       " <RunInfo: artifact_uri='file:///l/disk0/iaraujo/%C3%81rea%20de%20Trabalho/estudos/Courses/alura-mlflow-gestao-ciclo-vidas-modelos-ml/src/mlruns/1/602a397137e94ad6a07a3f0e088cdb36/artifacts', end_time=1643812881513, experiment_id='1', lifecycle_stage='active', run_id='602a397137e94ad6a07a3f0e088cdb36', run_uuid='602a397137e94ad6a07a3f0e088cdb36', start_time=1643812879587, status='FINISHED', user_id='iaraujo'>,\n",
       " <RunInfo: artifact_uri='file:///l/disk0/iaraujo/%C3%81rea%20de%20Trabalho/estudos/Courses/alura-mlflow-gestao-ciclo-vidas-modelos-ml/src/mlruns/1/05f08faa0bac4d2abfc6bede80a651be/artifacts', end_time=1643812875412, experiment_id='1', lifecycle_stage='active', run_id='05f08faa0bac4d2abfc6bede80a651be', run_uuid='05f08faa0bac4d2abfc6bede80a651be', start_time=1643812408080, status='FINISHED', user_id='iaraujo'>]"
      ]
     },
     "execution_count": 58,
     "metadata": {},
     "output_type": "execute_result"
    }
   ],
   "source": [
    "mlflow.list_run_infos(experiment_id='1')"
   ]
  },
  {
   "cell_type": "code",
   "execution_count": 59,
   "id": "95f36871",
   "metadata": {},
   "outputs": [
    {
     "data": {
      "text/plain": [
       "<Run: data=<RunData: metrics={'mse': 1386727460.1346002, 'r2': 0.8012741720529797}, params={}, tags={'mlflow.log-model.history': '[{\"run_id\": \"841a00f759b047c7b63802e8c96cac1b\", '\n",
       "                             '\"artifact_path\": \"xgboost\", \"utc_time_created\": '\n",
       "                             '\"2022-02-02 14:50:15.361772\", \"flavors\": '\n",
       "                             '{\"python_function\": {\"loader_module\": '\n",
       "                             '\"mlflow.xgboost\", \"python_version\": \"3.8.10\", '\n",
       "                             '\"data\": \"model.xgb\", \"env\": \"conda.yaml\"}, '\n",
       "                             '\"xgboost\": {\"xgb_version\": \"1.5.2\", \"data\": '\n",
       "                             '\"model.xgb\", \"model_class\": '\n",
       "                             '\"xgboost.sklearn.XGBRegressor\"}}}]',\n",
       " 'mlflow.source.name': '/l/disk0/iaraujo/.local/lib/python3.8/site-packages/ipykernel_launcher.py',\n",
       " 'mlflow.source.type': 'LOCAL',\n",
       " 'mlflow.user': 'iaraujo'}>, info=<RunInfo: artifact_uri='file:///l/disk0/iaraujo/%C3%81rea%20de%20Trabalho/estudos/Courses/alura-mlflow-gestao-ciclo-vidas-modelos-ml/src/mlruns/1/841a00f759b047c7b63802e8c96cac1b/artifacts', end_time=1643813416332, experiment_id='1', lifecycle_stage='active', run_id='841a00f759b047c7b63802e8c96cac1b', run_uuid='841a00f759b047c7b63802e8c96cac1b', start_time=1643813415261, status='FINISHED', user_id='iaraujo'>>"
      ]
     },
     "execution_count": 59,
     "metadata": {},
     "output_type": "execute_result"
    }
   ],
   "source": [
    "mlflow.get_run(run_id='841a00f759b047c7b63802e8c96cac1b')"
   ]
  },
  {
   "cell_type": "markdown",
   "id": "30f9c2cd",
   "metadata": {},
   "source": [
    "## Predict\n",
    "\n",
    "> It's also possible to predict via command line using:\n",
    ">> mlflow models predict -m PATH_TO_MODEL -i PATH_TO_INPUT -t INPUT_FILE_TYPE -o OUTPUT_PATH"
   ]
  },
  {
   "cell_type": "code",
   "execution_count": 78,
   "id": "5dd8302a",
   "metadata": {},
   "outputs": [],
   "source": [
    "logged_model = 'runs:/876bf098afd74361bfaaa96bb2d9e66c/linear_regression'\n",
    "\n",
    "loaded_model = mlflow.pyfunc.load_model(logged_model)"
   ]
  },
  {
   "cell_type": "code",
   "execution_count": 79,
   "id": "05ae8618",
   "metadata": {},
   "outputs": [
    {
     "data": {
      "text/plain": [
       "array([225330.9699176 , 169894.26391015, 229616.83552065, ...,\n",
       "       200454.55960921, 110202.60589025, 135744.06785697])"
      ]
     },
     "execution_count": 79,
     "metadata": {},
     "output_type": "execute_result"
    }
   ],
   "source": [
    "data = df.drop(columns='preco')\n",
    "\n",
    "loaded_model.predict(pd.DataFrame(data))"
   ]
  },
  {
   "cell_type": "markdown",
   "id": "1bbf1723",
   "metadata": {},
   "source": [
    "## Serving model as API and testing it"
   ]
  },
  {
   "cell_type": "markdown",
   "id": "94063a82",
   "metadata": {},
   "source": [
    "> mlflow models serve -m PATH_TO_MODEL -p PORT\n",
    "\n",
    "> e.g.: mlflow models serve -m runs:/876bf098afd74361bfaaa96bb2d9e66c/linear_regression -p 5001"
   ]
  },
  {
   "cell_type": "code",
   "execution_count": 80,
   "id": "28aa0dc8",
   "metadata": {},
   "outputs": [],
   "source": [
    "import requests"
   ]
  },
  {
   "cell_type": "code",
   "execution_count": 86,
   "id": "cb0eecc4",
   "metadata": {},
   "outputs": [],
   "source": [
    "url = 'http://127.0.0.1:5001/invocations'\n",
    "data = {\n",
    "    'columns': ['tamanho', 'ano', 'garagem'],\n",
    "    'data': [[159.0, 2003, 1], [159.0, 2010, 1]]\n",
    "}\n",
    "header = {'Content-Type': 'application/json'}"
   ]
  },
  {
   "cell_type": "code",
   "execution_count": 87,
   "id": "6598038b",
   "metadata": {},
   "outputs": [
    {
     "data": {
      "text/plain": [
       "(<Response [200]>, '[199563.7645382667, 204898.3949670836]')"
      ]
     },
     "execution_count": 87,
     "metadata": {},
     "output_type": "execute_result"
    }
   ],
   "source": [
    "response = requests.post(url, json=data, headers=header)\n",
    "response, response.text"
   ]
  },
  {
   "cell_type": "markdown",
   "id": "aadc26bd",
   "metadata": {},
   "source": [
    "# Some tests using sqlite backend\n",
    "\n",
    "> mlflow server --backend-store-uri sqlite:///mlflow.db --default-artifact-root ./artifacts --host 0.0.0.0\n",
    "\n",
    "> This enables model Registry, helping on models lifecycle admin\n",
    "\n",
    "> Now it's easier to serve the model in production:\n",
    "> * export MLFLOW_TRACKING_URI=http://127.0.0.1:5000\n",
    "> * mlflow models serve -m 'models:/House Price Predictor/Production' -p 5001"
   ]
  },
  {
   "cell_type": "markdown",
   "id": "2e3fd4ee",
   "metadata": {},
   "source": [
    "## Linear Regression"
   ]
  },
  {
   "cell_type": "code",
   "execution_count": 4,
   "id": "bd4b971f",
   "metadata": {},
   "outputs": [],
   "source": [
    "# NEW!\n",
    "\n",
    "mlflow.set_tracking_uri('http://127.0.0.1:5000')"
   ]
  },
  {
   "cell_type": "code",
   "execution_count": 6,
   "id": "b8f016bd",
   "metadata": {},
   "outputs": [
    {
     "name": "stderr",
     "output_type": "stream",
     "text": [
      "2022/02/02 15:24:32 INFO mlflow.tracking.fluent: Experiment with name 'house-prices-eda' does not exist. Creating a new experiment.\n"
     ]
    },
    {
     "data": {
      "text/plain": [
       "<Experiment: artifact_location='./artifacts/1', experiment_id='1', lifecycle_stage='active', name='house-prices-eda', tags={}>"
      ]
     },
     "execution_count": 6,
     "metadata": {},
     "output_type": "execute_result"
    }
   ],
   "source": [
    "mlflow.set_experiment('house-prices-eda')"
   ]
  },
  {
   "cell_type": "code",
   "execution_count": 9,
   "id": "30b221dd",
   "metadata": {},
   "outputs": [
    {
     "data": {
      "text/plain": [
       "<ActiveRun: >"
      ]
     },
     "execution_count": 9,
     "metadata": {},
     "output_type": "execute_result"
    }
   ],
   "source": [
    "mlflow.start_run()"
   ]
  },
  {
   "cell_type": "code",
   "execution_count": 10,
   "id": "f7cd3b1f",
   "metadata": {},
   "outputs": [
    {
     "data": {
      "text/plain": [
       "LinearRegression()"
      ]
     },
     "execution_count": 10,
     "metadata": {},
     "output_type": "execute_result"
    }
   ],
   "source": [
    "model1 = LinearRegression()\n",
    "model1.fit(X_train, y_train)"
   ]
  },
  {
   "cell_type": "code",
   "execution_count": 11,
   "id": "4d58db0b",
   "metadata": {},
   "outputs": [],
   "source": [
    "mlflow.log_params(model1.get_params())"
   ]
  },
  {
   "cell_type": "code",
   "execution_count": 12,
   "id": "e8b51b19",
   "metadata": {},
   "outputs": [
    {
     "data": {
      "text/plain": [
       "ModelInfo(artifact_path='linear_regression', flavors={'python_function': {'model_path': 'model.pkl', 'loader_module': 'mlflow.sklearn', 'python_version': '3.8.10', 'env': 'conda.yaml'}, 'sklearn': {'pickled_model': 'model.pkl', 'sklearn_version': '1.0', 'serialization_format': 'cloudpickle'}}, model_uri='runs:/bdc8d1712417433bbfbf6fddff1689f1/linear_regression', model_uuid='0e75a51230664ccbb0971f5648725ac1', run_id='bdc8d1712417433bbfbf6fddff1689f1', saved_input_example_info=None, signature_dict=None, utc_time_created='2022-02-02 18:24:40.596103')"
      ]
     },
     "execution_count": 12,
     "metadata": {},
     "output_type": "execute_result"
    }
   ],
   "source": [
    "mlflow.sklearn.log_model(model1, 'linear_regression')"
   ]
  },
  {
   "cell_type": "code",
   "execution_count": 13,
   "id": "8aca4dfe",
   "metadata": {},
   "outputs": [
    {
     "data": {
      "text/plain": [
       "(2078666917.9289913, 0.7021153642898048)"
      ]
     },
     "execution_count": 13,
     "metadata": {},
     "output_type": "execute_result"
    }
   ],
   "source": [
    "y_pred = model1.predict(X_test)\n",
    "mse = mean_squared_error(y_test, y_pred)\n",
    "r2 = r2_score(y_test, y_pred)\n",
    "mse, r2"
   ]
  },
  {
   "cell_type": "code",
   "execution_count": 14,
   "id": "ac9b5891",
   "metadata": {},
   "outputs": [],
   "source": [
    "mlflow.log_metric('mse', mse)\n",
    "mlflow.log_metric('r2', r2)"
   ]
  },
  {
   "cell_type": "code",
   "execution_count": 15,
   "id": "1dd3267f",
   "metadata": {},
   "outputs": [],
   "source": [
    "mlflow.end_run()"
   ]
  },
  {
   "cell_type": "markdown",
   "id": "9571d855",
   "metadata": {},
   "source": [
    "## XGBoost"
   ]
  },
  {
   "cell_type": "code",
   "execution_count": 16,
   "id": "04f3bbd6",
   "metadata": {},
   "outputs": [],
   "source": [
    "with mlflow.start_run():\n",
    "    model2 = XGBRegressor(random_state=42)\n",
    "    model2.fit(X_train, y_train)\n",
    "    \n",
    "    mlflow.xgboost.log_model(model2, 'xgboost')\n",
    "    \n",
    "    y_pred = model2.predict(X_test)\n",
    "    mse = mean_squared_error(y_test, y_pred)\n",
    "    r2 = r2_score(y_test, y_pred)\n",
    "    \n",
    "    mlflow.log_metric('mse', mse)\n",
    "    mlflow.log_metric('r2', r2)"
   ]
  },
  {
   "cell_type": "markdown",
   "id": "191af88c",
   "metadata": {},
   "source": [
    "## Testing again"
   ]
  },
  {
   "cell_type": "code",
   "execution_count": 21,
   "id": "47df533c",
   "metadata": {},
   "outputs": [],
   "source": [
    "import requests"
   ]
  },
  {
   "cell_type": "code",
   "execution_count": 22,
   "id": "bbc13017",
   "metadata": {},
   "outputs": [],
   "source": [
    "url = 'http://127.0.0.1:5001/invocations'\n",
    "data = {\n",
    "    'columns': ['tamanho', 'ano', 'garagem'],\n",
    "    'data': [[159.0, 2003, 1], [159.0, 2010, 1]]\n",
    "}\n",
    "header = {'Content-Type': 'application/json'}"
   ]
  },
  {
   "cell_type": "code",
   "execution_count": 20,
   "id": "665d6aa2",
   "metadata": {},
   "outputs": [
    {
     "data": {
      "text/plain": [
       "(<Response [200]>, '[199563.7645382667, 204898.3949670836]')"
      ]
     },
     "execution_count": 20,
     "metadata": {},
     "output_type": "execute_result"
    }
   ],
   "source": [
    "#beforing updating production model\n",
    "\n",
    "response = requests.post(url, json=data, headers=header)\n",
    "response, response.text"
   ]
  },
  {
   "cell_type": "code",
   "execution_count": 23,
   "id": "56268b79",
   "metadata": {},
   "outputs": [
    {
     "data": {
      "text/plain": [
       "(<Response [200]>, '[177157.125, 209713.640625]')"
      ]
     },
     "execution_count": 23,
     "metadata": {},
     "output_type": "execute_result"
    }
   ],
   "source": [
    "#after updating\n",
    "\n",
    "response = requests.post(url, json=data, headers=header)\n",
    "response, response.text"
   ]
  },
  {
   "cell_type": "markdown",
   "id": "e4e70ed1",
   "metadata": {},
   "source": [
    "# Docker\n",
    "\n",
    "> mlflow models build-docker -m 'models:/House Price Predictor/Production' -n \"house-prices\"\n",
    "\n",
    "> docker run -p 5001:8080 \"house-prices\"\n",
    "\n",
    "> And now the Production model is served and can receive a post as shown above"
   ]
  },
  {
   "cell_type": "code",
   "execution_count": null,
   "id": "a6578d3b",
   "metadata": {},
   "outputs": [],
   "source": []
  }
 ],
 "metadata": {
  "kernelspec": {
   "display_name": "Python 3 (ipykernel)",
   "language": "python",
   "name": "python3"
  },
  "language_info": {
   "codemirror_mode": {
    "name": "ipython",
    "version": 3
   },
   "file_extension": ".py",
   "mimetype": "text/x-python",
   "name": "python",
   "nbconvert_exporter": "python",
   "pygments_lexer": "ipython3",
   "version": "3.8.10"
  }
 },
 "nbformat": 4,
 "nbformat_minor": 5
}
